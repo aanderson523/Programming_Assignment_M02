{
 "cells": [
  {
   "cell_type": "code",
   "execution_count": null,
   "id": "b1f02f98",
   "metadata": {},
   "outputs": [],
   "source": [
    "secret = 3\n",
    "guess = 7 \n",
    "\n",
    "\n",
    "if secret == 3:\n",
    "    print (\"just right\")\n",
    "    \n",
    "elif secret <= 3:\n",
    "        print (\"too low\")\n",
    "        \n",
    "else:\n",
    "    print (\"too high\")"
   ]
  },
  {
   "cell_type": "code",
   "execution_count": null,
   "id": "97f65074",
   "metadata": {},
   "outputs": [],
   "source": [
    "small = False\n",
    "green = True\n",
    "item_list = [\"cherry\", \"pea\", \"watermelon\", \"pumpkin\"]\n",
    "\n",
    "for item in item_list:\n",
    "    if item == \"cherry , pea\":\n",
    "        print (\"False\")\n",
    "    \n",
    "    elif item in item_list == \"watermelon, pea\":\n",
    "        print (\"True\")\n",
    "        \n",
    "    else:\n",
    "        print (\"pumpkin\")    \n"
   ]
  },
  {
   "cell_type": "code",
   "execution_count": null,
   "id": "ef38d8ac",
   "metadata": {},
   "outputs": [],
   "source": [
    "numbers = [3, 2, 1, 0]\n",
    "\n",
    "for count in range (0, len(numbers)):\n",
    "    print (numbers[count])"
   ]
  },
  {
   "cell_type": "code",
   "execution_count": null,
   "id": "8fd2c2cb",
   "metadata": {},
   "outputs": [],
   "source": [
    "guess_me = 7\n",
    "number = 1\n",
    "\n",
    "while guess_me >= number:\n",
    "    print (\"oops\")\n",
    "    \n",
    "if guess_me <= number:\n",
    "        print (\"too low\")\n",
    "\n",
    "elif guess_me == guess_me:\n",
    "    print (\"found it \")\n",
    "    \n",
    "else:\n",
    "    break\n",
    "\n",
    "    "
   ]
  },
  {
   "cell_type": "code",
   "execution_count": null,
   "id": "61a31fce",
   "metadata": {},
   "outputs": [],
   "source": [
    "guess_me = 5\n",
    "number = 12\n",
    "\n",
    "while guess_me <= 12:\n",
    "    print (\"too low\")\n",
    "    \n",
    "    if guess_me == guess_me:\n",
    "        print (\"found it\")\n",
    "        \n",
    "        else:\n",
    "            print (oop)\n"
   ]
  }
 ],
 "metadata": {
  "kernelspec": {
   "display_name": "Python 3 (ipykernel)",
   "language": "python",
   "name": "python3"
  },
  "language_info": {
   "codemirror_mode": {
    "name": "ipython",
    "version": 3
   },
   "file_extension": ".py",
   "mimetype": "text/x-python",
   "name": "python",
   "nbconvert_exporter": "python",
   "pygments_lexer": "ipython3",
   "version": "3.9.7"
  }
 },
 "nbformat": 4,
 "nbformat_minor": 5
}
